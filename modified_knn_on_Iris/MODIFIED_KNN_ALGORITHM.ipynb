{
  "nbformat": 4,
  "nbformat_minor": 0,
  "metadata": {
    "colab": {
      "provenance": []
    },
    "kernelspec": {
      "name": "python3",
      "display_name": "Python 3"
    },
    "language_info": {
      "name": "python"
    }
  },
  "cells": [
    {
      "cell_type": "code",
      "source": [
        "import numpy as np \n",
        "import pandas as pd\n",
        "from sklearn.neighbors import KNeighborsClassifier\n",
        "import matplotlib.pyplot as plt\n",
        "from sklearn.datasets import load_iris\n",
        "import seaborn as sns\n",
        "import operator"
      ],
      "metadata": {
        "id": "d9GTTYgK0aD4"
      },
      "execution_count": 72,
      "outputs": []
    },
    {
      "cell_type": "code",
      "source": [
        "data = pd.read_csv('/content/Iris1.csv')"
      ],
      "metadata": {
        "id": "JkLkbfjD0oXz"
      },
      "execution_count": 73,
      "outputs": []
    },
    {
      "cell_type": "code",
      "source": [
        "type(data)"
      ],
      "metadata": {
        "colab": {
          "base_uri": "https://localhost:8080/"
        },
        "id": "RItw0snp0tb3",
        "outputId": "df536828-5819-43c5-96f4-d5efa54d4953"
      },
      "execution_count": 74,
      "outputs": [
        {
          "output_type": "execute_result",
          "data": {
            "text/plain": [
              "pandas.core.frame.DataFrame"
            ]
          },
          "metadata": {},
          "execution_count": 74
        }
      ]
    },
    {
      "cell_type": "code",
      "source": [
        "# print(data.feature_names)\n",
        "data.drop(('Id'), axis=1)"
      ],
      "metadata": {
        "colab": {
          "base_uri": "https://localhost:8080/",
          "height": 423
        },
        "id": "6QvMfJwR0vIG",
        "outputId": "1ac3d11a-bc79-4e93-e88c-c70bb9f239b3"
      },
      "execution_count": 75,
      "outputs": [
        {
          "output_type": "execute_result",
          "data": {
            "text/plain": [
              "     SepalLengthCm  SepalWidthCm         Species\n",
              "0              5.1           3.5     Iris-setosa\n",
              "1              4.9           3.0     Iris-setosa\n",
              "2              4.7           3.2     Iris-setosa\n",
              "3              4.6           3.1     Iris-setosa\n",
              "4              5.0           3.6     Iris-setosa\n",
              "..             ...           ...             ...\n",
              "145            6.7           3.0  Iris-virginica\n",
              "146            6.3           2.5  Iris-virginica\n",
              "147            6.5           3.0  Iris-virginica\n",
              "148            6.2           3.4  Iris-virginica\n",
              "149            5.9           3.0  Iris-virginica\n",
              "\n",
              "[150 rows x 3 columns]"
            ],
            "text/html": [
              "\n",
              "  <div id=\"df-0c83b4c3-696e-48be-96d5-9ad7d1f31868\">\n",
              "    <div class=\"colab-df-container\">\n",
              "      <div>\n",
              "<style scoped>\n",
              "    .dataframe tbody tr th:only-of-type {\n",
              "        vertical-align: middle;\n",
              "    }\n",
              "\n",
              "    .dataframe tbody tr th {\n",
              "        vertical-align: top;\n",
              "    }\n",
              "\n",
              "    .dataframe thead th {\n",
              "        text-align: right;\n",
              "    }\n",
              "</style>\n",
              "<table border=\"1\" class=\"dataframe\">\n",
              "  <thead>\n",
              "    <tr style=\"text-align: right;\">\n",
              "      <th></th>\n",
              "      <th>SepalLengthCm</th>\n",
              "      <th>SepalWidthCm</th>\n",
              "      <th>Species</th>\n",
              "    </tr>\n",
              "  </thead>\n",
              "  <tbody>\n",
              "    <tr>\n",
              "      <th>0</th>\n",
              "      <td>5.1</td>\n",
              "      <td>3.5</td>\n",
              "      <td>Iris-setosa</td>\n",
              "    </tr>\n",
              "    <tr>\n",
              "      <th>1</th>\n",
              "      <td>4.9</td>\n",
              "      <td>3.0</td>\n",
              "      <td>Iris-setosa</td>\n",
              "    </tr>\n",
              "    <tr>\n",
              "      <th>2</th>\n",
              "      <td>4.7</td>\n",
              "      <td>3.2</td>\n",
              "      <td>Iris-setosa</td>\n",
              "    </tr>\n",
              "    <tr>\n",
              "      <th>3</th>\n",
              "      <td>4.6</td>\n",
              "      <td>3.1</td>\n",
              "      <td>Iris-setosa</td>\n",
              "    </tr>\n",
              "    <tr>\n",
              "      <th>4</th>\n",
              "      <td>5.0</td>\n",
              "      <td>3.6</td>\n",
              "      <td>Iris-setosa</td>\n",
              "    </tr>\n",
              "    <tr>\n",
              "      <th>...</th>\n",
              "      <td>...</td>\n",
              "      <td>...</td>\n",
              "      <td>...</td>\n",
              "    </tr>\n",
              "    <tr>\n",
              "      <th>145</th>\n",
              "      <td>6.7</td>\n",
              "      <td>3.0</td>\n",
              "      <td>Iris-virginica</td>\n",
              "    </tr>\n",
              "    <tr>\n",
              "      <th>146</th>\n",
              "      <td>6.3</td>\n",
              "      <td>2.5</td>\n",
              "      <td>Iris-virginica</td>\n",
              "    </tr>\n",
              "    <tr>\n",
              "      <th>147</th>\n",
              "      <td>6.5</td>\n",
              "      <td>3.0</td>\n",
              "      <td>Iris-virginica</td>\n",
              "    </tr>\n",
              "    <tr>\n",
              "      <th>148</th>\n",
              "      <td>6.2</td>\n",
              "      <td>3.4</td>\n",
              "      <td>Iris-virginica</td>\n",
              "    </tr>\n",
              "    <tr>\n",
              "      <th>149</th>\n",
              "      <td>5.9</td>\n",
              "      <td>3.0</td>\n",
              "      <td>Iris-virginica</td>\n",
              "    </tr>\n",
              "  </tbody>\n",
              "</table>\n",
              "<p>150 rows × 3 columns</p>\n",
              "</div>\n",
              "      <button class=\"colab-df-convert\" onclick=\"convertToInteractive('df-0c83b4c3-696e-48be-96d5-9ad7d1f31868')\"\n",
              "              title=\"Convert this dataframe to an interactive table.\"\n",
              "              style=\"display:none;\">\n",
              "        \n",
              "  <svg xmlns=\"http://www.w3.org/2000/svg\" height=\"24px\"viewBox=\"0 0 24 24\"\n",
              "       width=\"24px\">\n",
              "    <path d=\"M0 0h24v24H0V0z\" fill=\"none\"/>\n",
              "    <path d=\"M18.56 5.44l.94 2.06.94-2.06 2.06-.94-2.06-.94-.94-2.06-.94 2.06-2.06.94zm-11 1L8.5 8.5l.94-2.06 2.06-.94-2.06-.94L8.5 2.5l-.94 2.06-2.06.94zm10 10l.94 2.06.94-2.06 2.06-.94-2.06-.94-.94-2.06-.94 2.06-2.06.94z\"/><path d=\"M17.41 7.96l-1.37-1.37c-.4-.4-.92-.59-1.43-.59-.52 0-1.04.2-1.43.59L10.3 9.45l-7.72 7.72c-.78.78-.78 2.05 0 2.83L4 21.41c.39.39.9.59 1.41.59.51 0 1.02-.2 1.41-.59l7.78-7.78 2.81-2.81c.8-.78.8-2.07 0-2.86zM5.41 20L4 18.59l7.72-7.72 1.47 1.35L5.41 20z\"/>\n",
              "  </svg>\n",
              "      </button>\n",
              "      \n",
              "  <style>\n",
              "    .colab-df-container {\n",
              "      display:flex;\n",
              "      flex-wrap:wrap;\n",
              "      gap: 12px;\n",
              "    }\n",
              "\n",
              "    .colab-df-convert {\n",
              "      background-color: #E8F0FE;\n",
              "      border: none;\n",
              "      border-radius: 50%;\n",
              "      cursor: pointer;\n",
              "      display: none;\n",
              "      fill: #1967D2;\n",
              "      height: 32px;\n",
              "      padding: 0 0 0 0;\n",
              "      width: 32px;\n",
              "    }\n",
              "\n",
              "    .colab-df-convert:hover {\n",
              "      background-color: #E2EBFA;\n",
              "      box-shadow: 0px 1px 2px rgba(60, 64, 67, 0.3), 0px 1px 3px 1px rgba(60, 64, 67, 0.15);\n",
              "      fill: #174EA6;\n",
              "    }\n",
              "\n",
              "    [theme=dark] .colab-df-convert {\n",
              "      background-color: #3B4455;\n",
              "      fill: #D2E3FC;\n",
              "    }\n",
              "\n",
              "    [theme=dark] .colab-df-convert:hover {\n",
              "      background-color: #434B5C;\n",
              "      box-shadow: 0px 1px 3px 1px rgba(0, 0, 0, 0.15);\n",
              "      filter: drop-shadow(0px 1px 2px rgba(0, 0, 0, 0.3));\n",
              "      fill: #FFFFFF;\n",
              "    }\n",
              "  </style>\n",
              "\n",
              "      <script>\n",
              "        const buttonEl =\n",
              "          document.querySelector('#df-0c83b4c3-696e-48be-96d5-9ad7d1f31868 button.colab-df-convert');\n",
              "        buttonEl.style.display =\n",
              "          google.colab.kernel.accessAllowed ? 'block' : 'none';\n",
              "\n",
              "        async function convertToInteractive(key) {\n",
              "          const element = document.querySelector('#df-0c83b4c3-696e-48be-96d5-9ad7d1f31868');\n",
              "          const dataTable =\n",
              "            await google.colab.kernel.invokeFunction('convertToInteractive',\n",
              "                                                     [key], {});\n",
              "          if (!dataTable) return;\n",
              "\n",
              "          const docLinkHtml = 'Like what you see? Visit the ' +\n",
              "            '<a target=\"_blank\" href=https://colab.research.google.com/notebooks/data_table.ipynb>data table notebook</a>'\n",
              "            + ' to learn more about interactive tables.';\n",
              "          element.innerHTML = '';\n",
              "          dataTable['output_type'] = 'display_data';\n",
              "          await google.colab.output.renderOutput(dataTable, element);\n",
              "          const docLink = document.createElement('div');\n",
              "          docLink.innerHTML = docLinkHtml;\n",
              "          element.appendChild(docLink);\n",
              "        }\n",
              "      </script>\n",
              "    </div>\n",
              "  </div>\n",
              "  "
            ]
          },
          "metadata": {},
          "execution_count": 75
        }
      ]
    },
    {
      "cell_type": "code",
      "source": [
        "data['Species'].unique()"
      ],
      "metadata": {
        "colab": {
          "base_uri": "https://localhost:8080/"
        },
        "id": "wU5IU8tG1EvA",
        "outputId": "5952ae22-b9a7-4a2e-8001-3ba3a8430761"
      },
      "execution_count": 76,
      "outputs": [
        {
          "output_type": "execute_result",
          "data": {
            "text/plain": [
              "array(['Iris-setosa', 'Iris-versicolor', 'Iris-virginica'], dtype=object)"
            ]
          },
          "metadata": {},
          "execution_count": 76
        }
      ]
    },
    {
      "cell_type": "code",
      "source": [
        "sns.set_style('whitegrid')\n",
        "graph = sns.FacetGrid(data, hue='Species')\n",
        "graph.map(plt.scatter, 'SepalLengthCm', 'SepalWidthCm').add_legend()\n",
        "plt.show()"
      ],
      "metadata": {
        "colab": {
          "base_uri": "https://localhost:8080/",
          "height": 307
        },
        "id": "VS2QHlud1T7o",
        "outputId": "c86b3282-7ab9-4858-8052-f782c8cf3d73"
      },
      "execution_count": 77,
      "outputs": [
        {
          "output_type": "display_data",
          "data": {
            "text/plain": [
              "<Figure size 443x300 with 1 Axes>"
            ],
            "image/png": "[encoded data removed]"
          },
          "metadata": {}
        }
      ]
    },
    {
      "cell_type": "markdown",
      "source": [
        "Inference from EDA (Exploratory Data Analysis):\n",
        "1. While Setosa can be easily identified, Virginica and Versicolor have some overlap.\n",
        "2. Length and Width are the most important features to identify various flowers."
      ],
      "metadata": {
        "id": "CCz_8Cd45Yrw"
      }
    },
    {
      "cell_type": "markdown",
      "source": [
        "##**NORMALIZATION OF THE DATASET**"
      ],
      "metadata": {
        "id": "GaZy876H6UD9"
      }
    },
    {
      "cell_type": "code",
      "source": [
        "#Normalization basically all the values of the different features on the same scale.\n",
        "\n",
        "from sklearn import preprocessing\n",
        "\n",
        "x_data = data.drop(['Species'], axis=1)\n",
        "y_data = data['Species']\n",
        "\n",
        "MinMaxScaler = preprocessing.MinMaxScaler()\n",
        "x_data_minmax = MinMaxScaler.fit_transform(x_data)\n",
        "df = pd.DataFrame(x_data_minmax, columns = ['SepalLengthCm', 'SepalWidthCm', 'Species'])\n",
        "\n",
        "df.head()\n",
        "print()\n",
        "print(x_data)\n",
        "print()\n",
        "print(y_data)"
      ],
      "metadata": {
        "colab": {
          "base_uri": "https://localhost:8080/"
        },
        "id": "j3sAaFji0OP5",
        "outputId": "d3c81312-7f59-4869-a380-2553b3a6f25e"
      },
      "execution_count": 78,
      "outputs": [
        {
          "output_type": "stream",
          "name": "stdout",
          "text": [
            "\n",
            "      Id  SepalLengthCm  SepalWidthCm\n",
            "0      1            5.1           3.5\n",
            "1      2            4.9           3.0\n",
            "2      3            4.7           3.2\n",
            "3      4            4.6           3.1\n",
            "4      5            5.0           3.6\n",
            "..   ...            ...           ...\n",
            "145  146            6.7           3.0\n",
            "146  147            6.3           2.5\n",
            "147  148            6.5           3.0\n",
            "148  149            6.2           3.4\n",
            "149  150            5.9           3.0\n",
            "\n",
            "[150 rows x 3 columns]\n",
            "\n",
            "0         Iris-setosa\n",
            "1         Iris-setosa\n",
            "2         Iris-setosa\n",
            "3         Iris-setosa\n",
            "4         Iris-setosa\n",
            "            ...      \n",
            "145    Iris-virginica\n",
            "146    Iris-virginica\n",
            "147    Iris-virginica\n",
            "148    Iris-virginica\n",
            "149    Iris-virginica\n",
            "Name: Species, Length: 150, dtype: object\n"
          ]
        }
      ]
    },
    {
      "cell_type": "code",
      "source": [
        "from sklearn.model_selection import train_test_split\n",
        "\n",
        "x_train, x_test, y_train, y_test = train_test_split(x_data, y_data, test_size=.2, random_state=1)\n",
        "knn = KNeighborsClassifier()\n",
        "knn.fit(x_train, y_train)\n",
        "y_predict = knn.predict(x_test)\n",
        "print(y_predict)"
      ],
      "metadata": {
        "colab": {
          "base_uri": "https://localhost:8080/"
        },
        "id": "pRysJO9_7I80",
        "outputId": "d8bef84f-8dc8-470d-a21b-6538cd52c93c"
      },
      "execution_count": 81,
      "outputs": [
        {
          "output_type": "stream",
          "name": "stdout",
          "text": [
            "['Iris-setosa' 'Iris-versicolor' 'Iris-versicolor' 'Iris-setosa'\n",
            " 'Iris-virginica' 'Iris-versicolor' 'Iris-virginica' 'Iris-setosa'\n",
            " 'Iris-setosa' 'Iris-virginica' 'Iris-versicolor' 'Iris-setosa'\n",
            " 'Iris-virginica' 'Iris-versicolor' 'Iris-versicolor' 'Iris-setosa'\n",
            " 'Iris-versicolor' 'Iris-versicolor' 'Iris-setosa' 'Iris-setosa'\n",
            " 'Iris-versicolor' 'Iris-versicolor' 'Iris-versicolor' 'Iris-setosa'\n",
            " 'Iris-virginica' 'Iris-versicolor' 'Iris-setosa' 'Iris-setosa'\n",
            " 'Iris-versicolor' 'Iris-virginica']\n"
          ]
        }
      ]
    },
    {
      "cell_type": "code",
      "source": [
        "from sklearn.metrics import classification_report, confusion_matrix, accuracy_score\n",
        "result = confusion_matrix(y_test, y_predict)\n",
        "print(\"Confusion Matrix\")\n",
        "print(result)\n",
        "result1 = classification_report(y_test, y_predict)\n",
        "print(\"Classification Report:\")\n",
        "print (result1)\n",
        "result2 = accuracy_score(y_test,y_predict)\n",
        "print(\"Accuracy:\",result2)\n",
        "\n",
        "#The confusion matrix is a matrix used to determine the performance of the classification models for a given dataset.\n",
        "#The matrix itself can be easily understood.\n",
        "#Since it shows the errors in the model performance in the form of a matrix, hence also called error matrix."
      ],
      "metadata": {
        "colab": {
          "base_uri": "https://localhost:8080/"
        },
        "id": "6NEKZ4-t-NNN",
        "outputId": "8c98e048-38e8-465e-9cf5-2efb93a26f04"
      },
      "execution_count": 82,
      "outputs": [
        {
          "output_type": "stream",
          "name": "stdout",
          "text": [
            "Confusion Matrix\n",
            "[[11  0  0]\n",
            " [ 0 13  0]\n",
            " [ 0  0  6]]\n",
            "Classification Report:\n",
            "                 precision    recall  f1-score   support\n",
            "\n",
            "    Iris-setosa       1.00      1.00      1.00        11\n",
            "Iris-versicolor       1.00      1.00      1.00        13\n",
            " Iris-virginica       1.00      1.00      1.00         6\n",
            "\n",
            "       accuracy                           1.00        30\n",
            "      macro avg       1.00      1.00      1.00        30\n",
            "   weighted avg       1.00      1.00      1.00        30\n",
            "\n",
            "Accuracy: 1.0\n"
          ]
        }
      ]
    },
    {
      "cell_type": "markdown",
      "source": [
        "##**OUR IMPLEMENTATION OH K-NEAREST NEIGHBORS ALGORITHM**"
      ],
      "metadata": {
        "id": "I4Ol-dQbS6TG"
      }
    },
    {
      "cell_type": "code",
      "source": [
        "#Creating a fucntion which calculates the distance (euclidian distance) between two data points\n",
        "\n",
        "def euclidian_distance(dp1, dp2, no_of_columns):\n",
        "  distance = 0\n",
        "  for i in range(no_of_columns):\n",
        "    distance += np.square(dp1[i] - dp2[i])\n",
        "  return np.sqrt(distance)\n",
        "\n",
        "#Testing the fucntion\n",
        "dp1 = [1,2,4,'b']\n",
        "dp2 = [3,2,3,'c']\n",
        "\n",
        "no_of_columns=  3\n",
        "test_distance=  euclidian_distance(dp1, dp2, no_of_columns)\n",
        "print(test_distance)"
      ],
      "metadata": {
        "colab": {
          "base_uri": "https://localhost:8080/"
        },
        "id": "FYME1es1-1Es",
        "outputId": "30ad266f-feb3-4353-d848-dddda8f89b59"
      },
      "execution_count": 83,
      "outputs": [
        {
          "output_type": "stream",
          "name": "stdout",
          "text": [
            "2.23606797749979\n"
          ]
        }
      ]
    },
    {
      "cell_type": "code",
      "source": [
        "nb = [[1,2,3,4],[5,6,7,8]]\n",
        "nb[0][-1]"
      ],
      "metadata": {
        "colab": {
          "base_uri": "https://localhost:8080/"
        },
        "id": "lycb48coBvsc",
        "outputId": "b5487dd5-b3a9-4cdf-9f8a-1211d68a2be6"
      },
      "execution_count": 84,
      "outputs": [
        {
          "output_type": "execute_result",
          "data": {
            "text/plain": [
              "4"
            ]
          },
          "metadata": {},
          "execution_count": 84
        }
      ]
    },
    {
      "cell_type": "code",
      "source": [
        "#Creatting the KNN model\n",
        "\n",
        "def knn(training_data, test_data, k):\n",
        "  distances = {}\n",
        "  sort = {}\n",
        "  no_of_columns = test_data.shape[1]\n",
        "\n",
        "  #Calcualting the euclidian distance between each row of the training and test data\n",
        "  for i in range(len(training_data)):\n",
        "    Interim_distance = euclidian_distance(training_data.iloc[i], test_data, no_of_columns)\n",
        "    distances[i] = Interim_distance[0]\n",
        "\n",
        "#Sorting them of the basis of the distance\n",
        "  sorted_distance = sorted(distances.items(), key=operator.itemgetter(1))\n",
        "\n",
        "#Identifying and extracting the top k neighbors\n",
        "  neighbor = []\n",
        "  for i in range(k):\n",
        "    neighbor.append(sorted_distance[i][0])\n",
        "\n",
        "#Calculating the most frequent class in the neighbors\n",
        "  class_votes = {}\n",
        "  for i in range(len(neighbor)):\n",
        "    #training_data is a 2-d array returning value of last column\n",
        "    classified_as = training_data.iloc[neighbor[i]][-1]\n",
        "    if classified_as in class_votes:\n",
        "      class_votes[classified_as] += 1;\n",
        "    else:\n",
        "      class_votes[classified_as] = 1;\n",
        "  \n",
        "  sorted_votes = sorted(class_votes.items(), key=operator.itemgetter(1), reverse=True)\n",
        "  return(sorted_votes[0][0], neighbor)"
      ],
      "metadata": {
        "id": "bwj6AxmGBxiI"
      },
      "execution_count": 85,
      "outputs": []
    },
    {
      "cell_type": "markdown",
      "source": [
        "##**K=5 FOR KNN**"
      ],
      "metadata": {
        "id": "nUE7YlC-VRgs"
      }
    },
    {
      "cell_type": "code",
      "source": [
        "testing = pd.DataFrame([[6, 2.9]])\n",
        "k_value = 5\n",
        "#Testing below\n",
        "\n",
        "result, nb = knn(data, testing, k_value)"
      ],
      "metadata": {
        "id": "dzW0LoZWBzOr"
      },
      "execution_count": 106,
      "outputs": []
    },
    {
      "cell_type": "code",
      "source": [
        "print(\"Classified as: \", result)\n",
        "print(nb)"
      ],
      "metadata": {
        "colab": {
          "base_uri": "https://localhost:8080/"
        },
        "id": "lInPvEDjB1cl",
        "outputId": "7fa40091-52b4-4115-966a-7b2adb31eb69"
      },
      "execution_count": 107,
      "outputs": [
        {
          "output_type": "stream",
          "name": "stdout",
          "text": [
            "Classified as:  Iris-setosa\n",
            "[6, 4, 5, 3, 7]\n"
          ]
        }
      ]
    },
    {
      "cell_type": "markdown",
      "source": [
        "##**K=3 FOR KNN**"
      ],
      "metadata": {
        "id": "cXxwsRa0VWjG"
      }
    },
    {
      "cell_type": "code",
      "source": [
        "testing = pd.DataFrame([[5.1, 3.5]])\n",
        "k_value = 3\n",
        "#Testing below\n",
        "\n",
        "result, nb = knn(data, testing, k_value)"
      ],
      "metadata": {
        "id": "NLiAUqINVV6j"
      },
      "execution_count": 101,
      "outputs": []
    },
    {
      "cell_type": "code",
      "source": [
        "print(\"Classified as: \", result)\n",
        "print(nb)"
      ],
      "metadata": {
        "colab": {
          "base_uri": "https://localhost:8080/"
        },
        "id": "jPjDa_ZbVlAr",
        "outputId": "e7b3ac77-a466-4d65-9329-cd36d61f5333"
      },
      "execution_count": 102,
      "outputs": [
        {
          "output_type": "stream",
          "name": "stdout",
          "text": [
            "Classified as:  Iris-setosa\n",
            "[4, 3, 5]\n"
          ]
        }
      ]
    },
    {
      "cell_type": "markdown",
      "source": [
        "##**SKLEARN K-NEAREST NEIGHBORS ALGORITHM**"
      ],
      "metadata": {
        "id": "2s0MVBXvTSAN"
      }
    },
    {
      "cell_type": "markdown",
      "source": [
        "##**K=5 FOR KNN**"
      ],
      "metadata": {
        "id": "JBrwDRbDV-sB"
      }
    },
    {
      "cell_type": "code",
      "source": [
        "from sklearn.neighbors import KNeighborsClassifier\n",
        "\n",
        "nbb = KNeighborsClassifier(n_neighbors=5)\n",
        "nbb.fit(data.iloc[:,0:2], data['Species'])\n",
        "print(nbb.predict(testing))\n",
        "print(nbb.kneighbors(testing)[1][0])"
      ],
      "metadata": {
        "colab": {
          "base_uri": "https://localhost:8080/"
        },
        "id": "vsegedZ6CSfW",
        "outputId": "efada8da-ba26-42dc-f660-b9c960c0f44b"
      },
      "execution_count": 108,
      "outputs": [
        {
          "output_type": "stream",
          "name": "stdout",
          "text": [
            "['Iris-setosa']\n",
            "[6 4 5 3 7]\n"
          ]
        },
        {
          "output_type": "stream",
          "name": "stderr",
          "text": [
            "/usr/local/lib/python3.10/dist-packages/sklearn/base.py:439: UserWarning: X does not have valid feature names, but KNeighborsClassifier was fitted with feature names\n",
            "  warnings.warn(\n",
            "/usr/local/lib/python3.10/dist-packages/sklearn/base.py:439: UserWarning: X does not have valid feature names, but KNeighborsClassifier was fitted with feature names\n",
            "  warnings.warn(\n"
          ]
        }
      ]
    },
    {
      "cell_type": "markdown",
      "source": [
        "##**K=3 FOR KNN**"
      ],
      "metadata": {
        "id": "UBzq9kD0WCiR"
      }
    },
    {
      "cell_type": "code",
      "source": [
        "from sklearn.neighbors import KNeighborsClassifier\n",
        "\n",
        "nbb = KNeighborsClassifier(n_neighbors=3)\n",
        "nbb.fit(data.iloc[:,0:2], data['Species'])\n",
        "print(nbb.predict(testing))\n",
        "print(nbb.kneighbors(testing)[1][0])"
      ],
      "metadata": {
        "colab": {
          "base_uri": "https://localhost:8080/"
        },
        "id": "tJksANDQCWm4",
        "outputId": "0251c39d-bc74-4c28-af08-7dabe36b0d76"
      },
      "execution_count": 103,
      "outputs": [
        {
          "output_type": "stream",
          "name": "stdout",
          "text": [
            "['Iris-setosa']\n",
            "[4 3 5]\n"
          ]
        },
        {
          "output_type": "stream",
          "name": "stderr",
          "text": [
            "/usr/local/lib/python3.10/dist-packages/sklearn/base.py:439: UserWarning: X does not have valid feature names, but KNeighborsClassifier was fitted with feature names\n",
            "  warnings.warn(\n",
            "/usr/local/lib/python3.10/dist-packages/sklearn/base.py:439: UserWarning: X does not have valid feature names, but KNeighborsClassifier was fitted with feature names\n",
            "  warnings.warn(\n"
          ]
        }
      ]
    },
    {
      "cell_type": "code",
      "source": [],
      "metadata": {
        "id": "SVHrkT7uWKLY"
      },
      "execution_count": null,
      "outputs": []
    }
  ]
}